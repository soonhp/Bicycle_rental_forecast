{
  "nbformat": 4,
  "nbformat_minor": 0,
  "metadata": {
    "colab": {
      "name": "bicycle_lstm_gru.ipynb",
      "provenance": [],
      "collapsed_sections": []
    },
    "kernelspec": {
      "name": "python3",
      "display_name": "Python 3"
    },
    "language_info": {
      "name": "python"
    }
  },
  "cells": [
    {
      "cell_type": "code",
      "execution_count": null,
      "metadata": {
        "id": "GPJiaFbhFTRs"
      },
      "outputs": [],
      "source": [
        "import pandas as pd\n",
        "import numpy as np"
      ]
    },
    {
      "cell_type": "code",
      "source": [
        "bike_train = pd.read_csv('train.csv')\n",
        "bike_train = bike_train.set_index('date_time')\n",
        "bike_test = pd.read_csv('test.csv')\n",
        "bike_test = bike_test.set_index('date_time')\n",
        "bike = pd.concat([bike_train,bike_test])\n",
        "# 1. \"일교차가 너무 큰 날씨\"를 알기 위한 정보\n",
        "bike['temp_diff_info'] = bike['high_temp'] - bike['low_temp']\n",
        "# 2. \"덥고 습한 날씨\"를 알기 위한 정보\n",
        "bike['sweat_info'] = bike['high_temp'] * bike['humidity'] \n",
        "# 3. \"춥고 바람부는 날씨\"를 알기 위한 정보\n",
        "bike['cold_info'] = bike['low_temp'] * bike['wind_speed'] \n",
        "bike.drop(['wind_direction', 'humidity', 'cold_info'], axis=1, inplace=True)\n",
        "bike = bike[['sky_condition', 'precipitation_form', 'wind_speed', 'low_temp', 'high_temp', 'Precipitation_Probability', 'temp_diff_info', 'sweat_info', 'number_of_rentals']]"
      ],
      "metadata": {
        "id": "CJXLapihF6wt"
      },
      "execution_count": null,
      "outputs": []
    },
    {
      "cell_type": "code",
      "source": [
        "train_bike_y = bike['number_of_rentals'][0:273]\n",
        "train_bike_y = train_bike_y.reset_index()\n",
        "train_bike_y"
      ],
      "metadata": {
        "colab": {
          "base_uri": "https://localhost:8080/",
          "height": 423
        },
        "id": "KDwFAsgqGG15",
        "outputId": "e3eb99fd-4393-4331-ec23-5c70fec14a28"
      },
      "execution_count": null,
      "outputs": [
        {
          "output_type": "execute_result",
          "data": {
            "text/html": [
              "<div>\n",
              "<style scoped>\n",
              "    .dataframe tbody tr th:only-of-type {\n",
              "        vertical-align: middle;\n",
              "    }\n",
              "\n",
              "    .dataframe tbody tr th {\n",
              "        vertical-align: top;\n",
              "    }\n",
              "\n",
              "    .dataframe thead th {\n",
              "        text-align: right;\n",
              "    }\n",
              "</style>\n",
              "<table border=\"1\" class=\"dataframe\">\n",
              "  <thead>\n",
              "    <tr style=\"text-align: right;\">\n",
              "      <th></th>\n",
              "      <th>date_time</th>\n",
              "      <th>number_of_rentals</th>\n",
              "    </tr>\n",
              "  </thead>\n",
              "  <tbody>\n",
              "    <tr>\n",
              "      <th>0</th>\n",
              "      <td>2018-04-01</td>\n",
              "      <td>22994</td>\n",
              "    </tr>\n",
              "    <tr>\n",
              "      <th>1</th>\n",
              "      <td>2018-04-02</td>\n",
              "      <td>28139</td>\n",
              "    </tr>\n",
              "    <tr>\n",
              "      <th>2</th>\n",
              "      <td>2018-04-03</td>\n",
              "      <td>26817</td>\n",
              "    </tr>\n",
              "    <tr>\n",
              "      <th>3</th>\n",
              "      <td>2018-04-04</td>\n",
              "      <td>26034</td>\n",
              "    </tr>\n",
              "    <tr>\n",
              "      <th>4</th>\n",
              "      <td>2018-04-05</td>\n",
              "      <td>2833</td>\n",
              "    </tr>\n",
              "    <tr>\n",
              "      <th>...</th>\n",
              "      <td>...</td>\n",
              "      <td>...</td>\n",
              "    </tr>\n",
              "    <tr>\n",
              "      <th>268</th>\n",
              "      <td>2020-06-26</td>\n",
              "      <td>96150</td>\n",
              "    </tr>\n",
              "    <tr>\n",
              "      <th>269</th>\n",
              "      <td>2020-06-27</td>\n",
              "      <td>107001</td>\n",
              "    </tr>\n",
              "    <tr>\n",
              "      <th>270</th>\n",
              "      <td>2020-06-28</td>\n",
              "      <td>98568</td>\n",
              "    </tr>\n",
              "    <tr>\n",
              "      <th>271</th>\n",
              "      <td>2020-06-29</td>\n",
              "      <td>70053</td>\n",
              "    </tr>\n",
              "    <tr>\n",
              "      <th>272</th>\n",
              "      <td>2020-06-30</td>\n",
              "      <td>38086</td>\n",
              "    </tr>\n",
              "  </tbody>\n",
              "</table>\n",
              "<p>273 rows × 2 columns</p>\n",
              "</div>"
            ],
            "text/plain": [
              "      date_time  number_of_rentals\n",
              "0    2018-04-01              22994\n",
              "1    2018-04-02              28139\n",
              "2    2018-04-03              26817\n",
              "3    2018-04-04              26034\n",
              "4    2018-04-05               2833\n",
              "..          ...                ...\n",
              "268  2020-06-26              96150\n",
              "269  2020-06-27             107001\n",
              "270  2020-06-28              98568\n",
              "271  2020-06-29              70053\n",
              "272  2020-06-30              38086\n",
              "\n",
              "[273 rows x 2 columns]"
            ]
          },
          "metadata": {},
          "execution_count": 3
        }
      ]
    },
    {
      "cell_type": "code",
      "source": [
        "test_bike_y = bike['number_of_rentals'][273:]\n",
        "test_bike_y = test_bike_y.reset_index()\n",
        "test_bike_y"
      ],
      "metadata": {
        "colab": {
          "base_uri": "https://localhost:8080/",
          "height": 423
        },
        "id": "ZntS7GkWGIrK",
        "outputId": "292c005a-8c95-4ce8-8adc-b1cb7d9a8584"
      },
      "execution_count": null,
      "outputs": [
        {
          "output_type": "execute_result",
          "data": {
            "text/html": [
              "<div>\n",
              "<style scoped>\n",
              "    .dataframe tbody tr th:only-of-type {\n",
              "        vertical-align: middle;\n",
              "    }\n",
              "\n",
              "    .dataframe tbody tr th {\n",
              "        vertical-align: top;\n",
              "    }\n",
              "\n",
              "    .dataframe thead th {\n",
              "        text-align: right;\n",
              "    }\n",
              "</style>\n",
              "<table border=\"1\" class=\"dataframe\">\n",
              "  <thead>\n",
              "    <tr style=\"text-align: right;\">\n",
              "      <th></th>\n",
              "      <th>date_time</th>\n",
              "      <th>number_of_rentals</th>\n",
              "    </tr>\n",
              "  </thead>\n",
              "  <tbody>\n",
              "    <tr>\n",
              "      <th>0</th>\n",
              "      <td>2021-04-01</td>\n",
              "      <td>116640</td>\n",
              "    </tr>\n",
              "    <tr>\n",
              "      <th>1</th>\n",
              "      <td>2021-04-02</td>\n",
              "      <td>110607</td>\n",
              "    </tr>\n",
              "    <tr>\n",
              "      <th>2</th>\n",
              "      <td>2021-04-03</td>\n",
              "      <td>14026</td>\n",
              "    </tr>\n",
              "    <tr>\n",
              "      <th>3</th>\n",
              "      <td>2021-04-04</td>\n",
              "      <td>94160</td>\n",
              "    </tr>\n",
              "    <tr>\n",
              "      <th>4</th>\n",
              "      <td>2021-04-05</td>\n",
              "      <td>110533</td>\n",
              "    </tr>\n",
              "    <tr>\n",
              "      <th>...</th>\n",
              "      <td>...</td>\n",
              "      <td>...</td>\n",
              "    </tr>\n",
              "    <tr>\n",
              "      <th>86</th>\n",
              "      <td>2021-06-26</td>\n",
              "      <td>105813</td>\n",
              "    </tr>\n",
              "    <tr>\n",
              "      <th>87</th>\n",
              "      <td>2021-06-27</td>\n",
              "      <td>92869</td>\n",
              "    </tr>\n",
              "    <tr>\n",
              "      <th>88</th>\n",
              "      <td>2021-06-28</td>\n",
              "      <td>106378</td>\n",
              "    </tr>\n",
              "    <tr>\n",
              "      <th>89</th>\n",
              "      <td>2021-06-29</td>\n",
              "      <td>111907</td>\n",
              "    </tr>\n",
              "    <tr>\n",
              "      <th>90</th>\n",
              "      <td>2021-06-30</td>\n",
              "      <td>122200</td>\n",
              "    </tr>\n",
              "  </tbody>\n",
              "</table>\n",
              "<p>91 rows × 2 columns</p>\n",
              "</div>"
            ],
            "text/plain": [
              "     date_time  number_of_rentals\n",
              "0   2021-04-01             116640\n",
              "1   2021-04-02             110607\n",
              "2   2021-04-03              14026\n",
              "3   2021-04-04              94160\n",
              "4   2021-04-05             110533\n",
              "..         ...                ...\n",
              "86  2021-06-26             105813\n",
              "87  2021-06-27              92869\n",
              "88  2021-06-28             106378\n",
              "89  2021-06-29             111907\n",
              "90  2021-06-30             122200\n",
              "\n",
              "[91 rows x 2 columns]"
            ]
          },
          "metadata": {},
          "execution_count": 4
        }
      ]
    },
    {
      "cell_type": "code",
      "source": [
        "def ts_train_test_normalize(all_data, time_steps, for_periods):\n",
        "\n",
        "    # create training and test set \n",
        "    ts_train = all_data[0:273].iloc[:,[-1]].values\n",
        "    ts_test = all_data[273:].iloc[:,[-1]].values \n",
        "    ts_train_len = len(ts_train)\n",
        "    ts_test_len = len(ts_test)\n",
        "    \n",
        "    # scale the data \n",
        "    from sklearn.preprocessing import MinMaxScaler \n",
        "    sc = MinMaxScaler(feature_range=(0,1))\n",
        "    ts_train_scaled = sc.fit_transform(ts_train)\n",
        "    \n",
        "    # create training data of s samples and t time steps \n",
        "    X_train = [] \n",
        "    y_train = [] \n",
        "    for i in range(time_steps, ts_train_len-1):\n",
        "        X_train.append(ts_train_scaled[i-time_steps:i, 0])\n",
        "        y_train.append(ts_train_scaled[i:i+for_periods, 0])\n",
        "    X_train, y_train = np.array(X_train), np.array(y_train)\n",
        "    \n",
        "    # Reshaping X_train for efficient modelling \n",
        "    X_train = np.reshape(X_train, (X_train.shape[0], X_train.shape[1], 1 ))\n",
        "    \n",
        "    inputs = pd.concat((all_data[\"number_of_rentals\"][:273], all_data[\"number_of_rentals\"][273:]), axis=0).values\n",
        "    inputs = inputs[len(inputs)-len(ts_test)-time_steps:]\n",
        "    inputs = inputs.reshape(-1,1)\n",
        "    inputs = sc.transform(inputs)\n",
        "    \n",
        "    # Preparing X_test \n",
        "    X_test = [] \n",
        "    for i in range(time_steps, ts_test_len + time_steps - for_periods):\n",
        "        X_test.append(inputs[i-time_steps:i,0])\n",
        "    \n",
        "    X_test = np.array(X_test)\n",
        "    X_test = np.reshape(X_test, (X_test.shape[0], X_test.shape[1], 1))\n",
        "    \n",
        "    return X_train, y_train , X_test, sc "
      ],
      "metadata": {
        "id": "zq5pwLcRGOTL"
      },
      "execution_count": null,
      "outputs": []
    },
    {
      "cell_type": "code",
      "source": [
        "X_train, y_train, X_test, sc = ts_train_test_normalize(bike, 7, 2)\n",
        "X_train.shape[0], X_train.shape[1]"
      ],
      "metadata": {
        "colab": {
          "base_uri": "https://localhost:8080/"
        },
        "id": "q9-D3PioHzlT",
        "outputId": "a5ab0478-34c5-4719-d862-344f1892f9bd"
      },
      "execution_count": null,
      "outputs": [
        {
          "output_type": "execute_result",
          "data": {
            "text/plain": [
              "(265, 7)"
            ]
          },
          "metadata": {},
          "execution_count": 8
        }
      ]
    },
    {
      "cell_type": "code",
      "source": [
        "def LSTM_model(X_train, y_train, X_test, sc):\n",
        "    # create a model\n",
        "    from keras.models import Sequential\n",
        "    from keras.layers import Dense, SimpleRNN, GRU, LSTM\n",
        "    from tensorflow.keras.optimizers import SGD \n",
        "\n",
        "    # The LSTM architecture\n",
        "    my_LSTM_model = Sequential()\n",
        "    my_LSTM_model.add(LSTM(units = 50, \n",
        "                           return_sequences = True, \n",
        "                           input_shape = (X_train.shape[1],1), \n",
        "                           activation = 'tanh'))\n",
        "    my_LSTM_model.add(LSTM(units = 50, activation = 'tanh'))\n",
        "    my_LSTM_model.add(Dense(units=2))\n",
        "    \n",
        "    # Compiling \n",
        "    my_LSTM_model.compile(optimizer = SGD(lr = 0.01, decay = 1e-7, \n",
        "                                         momentum = 0.9, nesterov = False),\n",
        "                         loss = 'mean_squared_error')\n",
        "    \n",
        "    # Fitting to the training set \n",
        "    my_LSTM_model.fit(X_train, y_train, epochs = 50, batch_size = 150, verbose = 0)\n",
        "    \n",
        "    LSTM_prediction = my_LSTM_model.predict(X_test)\n",
        "    LSTM_prediction = sc.inverse_transform(LSTM_prediction)\n",
        "    \n",
        "    return my_LSTM_model, LSTM_prediction "
      ],
      "metadata": {
        "id": "i9-5KKitIgjm"
      },
      "execution_count": null,
      "outputs": []
    },
    {
      "cell_type": "code",
      "source": [
        "def actual_pred_plot(preds):\n",
        "    \"\"\"\n",
        "    Plot the actual vs predition\n",
        "    \"\"\"\n",
        "    actual_pred = pd.DataFrame(columns = ['number_of_rentals', 'prediction'])\n",
        "    actual_pred['number_of_rentals'] = bike[\"number_of_rentals\"][273:][0:len(preds)]\n",
        "    actual_pred['prediction'] = preds[:,0]\n",
        "    \n",
        "    from keras.metrics import MeanSquaredError \n",
        "    m = MeanSquaredError()\n",
        "    m.update_state(np.array(actual_pred['number_of_rentals']), np.array(actual_pred['prediction']))\n",
        "    \n",
        "    return (m.result().numpy(), actual_pred.plot())"
      ],
      "metadata": {
        "id": "PbqxXsOyJ2Sz"
      },
      "execution_count": null,
      "outputs": []
    },
    {
      "cell_type": "code",
      "source": [
        "\n",
        "my_LSTM_model, LSTM_prediction = LSTM_model(X_train, y_train, X_test, sc)\n",
        "LSTM_prediction[1:10]\n",
        "actual_pred_plot(LSTM_prediction)"
      ],
      "metadata": {
        "colab": {
          "base_uri": "https://localhost:8080/",
          "height": 354
        },
        "id": "TiUbjoPOKGLM",
        "outputId": "e1483258-26b5-4cfb-b4d4-3efc7358b5d8"
      },
      "execution_count": null,
      "outputs": [
        {
          "output_type": "stream",
          "name": "stderr",
          "text": [
            "/usr/local/lib/python3.7/dist-packages/keras/optimizer_v2/gradient_descent.py:102: UserWarning: The `lr` argument is deprecated, use `learning_rate` instead.\n",
            "  super(SGD, self).__init__(name, **kwargs)\n"
          ]
        },
        {
          "output_type": "execute_result",
          "data": {
            "text/plain": [
              "(1807880300.0, <matplotlib.axes._subplots.AxesSubplot at 0x7f1a565d9f90>)"
            ]
          },
          "metadata": {},
          "execution_count": 11
        },
        {
          "output_type": "display_data",
          "data": {
            "image/png": "[encoded data removed]",
            "text/plain": [
              "<Figure size 432x288 with 1 Axes>"
            ]
          },
          "metadata": {
            "needs_background": "light"
          }
        }
      ]
    },
    {
      "cell_type": "code",
      "source": [
        "y_pred = LSTM_prediction[:, 0]\n",
        "y_test=bike[\"number_of_rentals\"][273:][0:len(LSTM_prediction)]\n",
        "y_test.reset_index(drop=True, inplace=True)"
      ],
      "metadata": {
        "id": "6lBh80qROevl"
      },
      "execution_count": null,
      "outputs": []
    },
    {
      "cell_type": "code",
      "source": [
        "def NMAE(true, pred):\n",
        "    score = np.mean(np.abs(true-pred) / true)\n",
        "    return score"
      ],
      "metadata": {
        "id": "CQ14gdLsOo00"
      },
      "execution_count": null,
      "outputs": []
    },
    {
      "cell_type": "code",
      "source": [
        "NMAE(y_test, y_pred)"
      ],
      "metadata": {
        "colab": {
          "base_uri": "https://localhost:8080/"
        },
        "id": "nQg5ZXq_Orck",
        "outputId": "df5aa2e4-7c6f-4eca-fbbc-1e2cf2314168"
      },
      "execution_count": null,
      "outputs": [
        {
          "output_type": "execute_result",
          "data": {
            "text/plain": [
              "0.7426529362087873"
            ]
          },
          "metadata": {},
          "execution_count": 18
        }
      ]
    },
    {
      "cell_type": "code",
      "source": [
        "def GRU_model(X_train, y_train, X_test, sc):\n",
        "    # create a model \n",
        "    from keras.models import Sequential \n",
        "    from keras.layers import Dense, SimpleRNN, GRU\n",
        "    from tensorflow.keras.optimizers import SGD \n",
        "    \n",
        "    # The GRU architecture \n",
        "    my_GRU_model = Sequential()\n",
        "    my_GRU_model.add(GRU(units = 50, \n",
        "                         return_sequences = True, \n",
        "                         input_shape = (X_train.shape[1],1), \n",
        "                         activation = 'tanh'))\n",
        "    my_GRU_model.add(GRU(units = 50, \n",
        "                         activation = 'tanh'))\n",
        "    my_GRU_model.add(Dense(units = 2))\n",
        "    \n",
        "    # Compiling the RNN \n",
        "    my_GRU_model.compile(optimizer = SGD(lr = 0.01, decay = 1e-7, \n",
        "                                         momentum = 0.9, nesterov = False), \n",
        "                         loss = 'mean_squared_error')\n",
        "    \n",
        "    # Fitting to the trainig set \n",
        "    my_GRU_model.fit(X_train, y_train, epochs = 50, batch_size = 150, verbose = 0)\n",
        "    \n",
        "    GRU_prediction = my_GRU_model.predict(X_test)\n",
        "    GRU_prediction = sc.inverse_transform(GRU_prediction)\n",
        "    \n",
        "    return my_GRU_model, GRU_prediction "
      ],
      "metadata": {
        "id": "KohOeg0PPRY1"
      },
      "execution_count": null,
      "outputs": []
    },
    {
      "cell_type": "code",
      "source": [
        "my_GRU_model, GRU_prediction = GRU_model(X_train, y_train, X_test, sc)\n",
        "GRU_prediction[1:10]\n",
        "actual_pred_plot(GRU_prediction)"
      ],
      "metadata": {
        "colab": {
          "base_uri": "https://localhost:8080/",
          "height": 354
        },
        "id": "mY_8_mvkPUGd",
        "outputId": "e338bfb2-0e84-47d5-f948-679e325cdd1c"
      },
      "execution_count": null,
      "outputs": [
        {
          "output_type": "stream",
          "name": "stderr",
          "text": [
            "/usr/local/lib/python3.7/dist-packages/keras/optimizer_v2/gradient_descent.py:102: UserWarning: The `lr` argument is deprecated, use `learning_rate` instead.\n",
            "  super(SGD, self).__init__(name, **kwargs)\n"
          ]
        },
        {
          "output_type": "execute_result",
          "data": {
            "text/plain": [
              "(1047406400.0, <matplotlib.axes._subplots.AxesSubplot at 0x7f1a4ed9ba90>)"
            ]
          },
          "metadata": {},
          "execution_count": 22
        },
        {
          "output_type": "display_data",
          "data": {
            "image/png": "[encoded data removed]",
            "text/plain": [
              "<Figure size 432x288 with 1 Axes>"
            ]
          },
          "metadata": {
            "needs_background": "light"
          }
        }
      ]
    },
    {
      "cell_type": "code",
      "source": [
        "y_pred_gru = GRU_prediction[:, 0]\n",
        "y_test_gru=bike[\"number_of_rentals\"][273:][0:len(GRU_prediction)]\n",
        "y_test_gru.reset_index(drop=True, inplace=True)"
      ],
      "metadata": {
        "id": "oZSCSItjPf0r"
      },
      "execution_count": null,
      "outputs": []
    },
    {
      "cell_type": "code",
      "source": [
        "NMAE(y_test_gru, y_pred_gru)"
      ],
      "metadata": {
        "id": "kkd2tD5gPooA",
        "outputId": "d1f13022-9c30-405d-f75a-8d98a7645da9",
        "colab": {
          "base_uri": "https://localhost:8080/"
        }
      },
      "execution_count": null,
      "outputs": [
        {
          "output_type": "execute_result",
          "data": {
            "text/plain": [
              "0.7733880761942377"
            ]
          },
          "metadata": {},
          "execution_count": 25
        }
      ]
    }
  ]
}